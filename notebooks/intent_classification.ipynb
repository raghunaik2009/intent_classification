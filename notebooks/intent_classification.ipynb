{
 "cells": [
  {
   "cell_type": "markdown",
   "id": "ab966e40-3808-469a-a3a9-4e5e2d122f7a",
   "metadata": {},
   "source": [
    "### Importing Python libraries"
   ]
  },
  {
   "cell_type": "code",
   "execution_count": 58,
   "id": "1a32488f-b104-4fc3-9263-7f9965d795b1",
   "metadata": {},
   "outputs": [],
   "source": [
    "import pandas as pd\n",
    "import numpy as np\n",
    "import matplotlib.pyplot as plt\n",
    "import seaborn as sns\n",
    "from collections import Counter\n",
    "from wordcloud import WordCloud\n",
    "import re\n",
    "import keras\n",
    "import tensorflow as tf\n",
    "from tensorflow.keras.preprocessing.text import Tokenizer\n",
    "from tensorflow.keras.preprocessing.sequence import pad_sequences\n",
    "from sklearn.model_selection import train_test_split\n",
    "from sklearn.preprocessing import OneHotEncoder\n",
    "from tensorflow.keras.models import Sequential\n",
    "from tensorflow.keras.layers import Embedding, LSTM, Dense, Dropout\n",
    "from tensorflow.keras.callbacks import EarlyStopping, ModelCheckpoint\n",
    "from keras.layers import TextVectorization\n",
    "import string\n",
    "from keras import models\n",
    "from sklearn.utils import resample\n",
    "from imblearn.over_sampling import RandomOverSampler, SMOTE"
   ]
  },
  {
   "cell_type": "code",
   "execution_count": 59,
   "id": "a28d9bee-a080-4541-b7b1-d7455f901562",
   "metadata": {},
   "outputs": [],
   "source": [
    "# Load the dataset\n",
    "data = pd.read_csv('data/atis/train.tsv', sep='\\t', header=None, names=['text', 'label'])"
   ]
  },
  {
   "cell_type": "code",
   "execution_count": 60,
   "id": "5e5b382e-3017-4d9d-870b-d781f0992ff7",
   "metadata": {},
   "outputs": [
    {
     "data": {
      "text/html": [
       "<div>\n",
       "<style scoped>\n",
       "    .dataframe tbody tr th:only-of-type {\n",
       "        vertical-align: middle;\n",
       "    }\n",
       "\n",
       "    .dataframe tbody tr th {\n",
       "        vertical-align: top;\n",
       "    }\n",
       "\n",
       "    .dataframe thead th {\n",
       "        text-align: right;\n",
       "    }\n",
       "</style>\n",
       "<table border=\"1\" class=\"dataframe\">\n",
       "  <thead>\n",
       "    <tr style=\"text-align: right;\">\n",
       "      <th></th>\n",
       "      <th>text</th>\n",
       "      <th>label</th>\n",
       "    </tr>\n",
       "  </thead>\n",
       "  <tbody>\n",
       "    <tr>\n",
       "      <th>0</th>\n",
       "      <td>i want to fly from boston at 838 am and arrive...</td>\n",
       "      <td>flight</td>\n",
       "    </tr>\n",
       "    <tr>\n",
       "      <th>1</th>\n",
       "      <td>what flights are available from pittsburgh to ...</td>\n",
       "      <td>flight</td>\n",
       "    </tr>\n",
       "    <tr>\n",
       "      <th>2</th>\n",
       "      <td>what is the arrival time in san francisco for ...</td>\n",
       "      <td>flight_time</td>\n",
       "    </tr>\n",
       "    <tr>\n",
       "      <th>3</th>\n",
       "      <td>cheapest airfare from tacoma to orlando</td>\n",
       "      <td>airfare</td>\n",
       "    </tr>\n",
       "    <tr>\n",
       "      <th>4</th>\n",
       "      <td>round trip fares from pittsburgh to philadelph...</td>\n",
       "      <td>airfare</td>\n",
       "    </tr>\n",
       "  </tbody>\n",
       "</table>\n",
       "</div>"
      ],
      "text/plain": [
       "                                                text        label\n",
       "0  i want to fly from boston at 838 am and arrive...       flight\n",
       "1  what flights are available from pittsburgh to ...       flight\n",
       "2  what is the arrival time in san francisco for ...  flight_time\n",
       "3            cheapest airfare from tacoma to orlando      airfare\n",
       "4  round trip fares from pittsburgh to philadelph...      airfare"
      ]
     },
     "execution_count": 60,
     "metadata": {},
     "output_type": "execute_result"
    }
   ],
   "source": [
    "data.head()"
   ]
  },
  {
   "cell_type": "code",
   "execution_count": 61,
   "id": "d8207352-a0e8-4d20-a98c-04c12248a035",
   "metadata": {},
   "outputs": [
    {
     "data": {
      "text/plain": [
       "(4634, 2)"
      ]
     },
     "execution_count": 61,
     "metadata": {},
     "output_type": "execute_result"
    }
   ],
   "source": [
    "data.shape"
   ]
  },
  {
   "cell_type": "code",
   "execution_count": 62,
   "id": "3f507708-f599-4bcd-83bc-4762db058ba6",
   "metadata": {},
   "outputs": [
    {
     "name": "stdout",
     "output_type": "stream",
     "text": [
      "Total examples: 4634\n",
      "Unique intents: 22\n",
      "Examples per intent:\n",
      "flight                        3426\n",
      "airfare                        403\n",
      "ground_service                 235\n",
      "airline                        148\n",
      "abbreviation                   108\n",
      "aircraft                        78\n",
      "flight_time                     52\n",
      "quantity                        49\n",
      "distance                        20\n",
      "city                            18\n",
      "airport                         18\n",
      "ground_fare                     17\n",
      "flight+airfare                  17\n",
      "capacity                        16\n",
      "flight_no                       12\n",
      "meal                             6\n",
      "restriction                      5\n",
      "airline+flight_no                2\n",
      "ground_service+ground_fare       1\n",
      "airfare+flight_time              1\n",
      "cheapest                         1\n",
      "aircraft+flight+flight_no        1\n",
      "Name: label, dtype: int64\n"
     ]
    }
   ],
   "source": [
    "# Basic overview\n",
    "print(f\"Total examples: {len(data)}\")\n",
    "print(f\"Unique intents: {data['label'].nunique()}\")\n",
    "print(f\"Examples per intent:\\n{data['label'].value_counts()}\")"
   ]
  },
  {
   "cell_type": "code",
   "execution_count": 63,
   "id": "7dfd4b96-10c4-4fa1-b3ee-2587d8f7528d",
   "metadata": {},
   "outputs": [
    {
     "data": {
      "text/html": [
       "<div>\n",
       "<style scoped>\n",
       "    .dataframe tbody tr th:only-of-type {\n",
       "        vertical-align: middle;\n",
       "    }\n",
       "\n",
       "    .dataframe tbody tr th {\n",
       "        vertical-align: top;\n",
       "    }\n",
       "\n",
       "    .dataframe thead th {\n",
       "        text-align: right;\n",
       "    }\n",
       "</style>\n",
       "<table border=\"1\" class=\"dataframe\">\n",
       "  <thead>\n",
       "    <tr style=\"text-align: right;\">\n",
       "      <th></th>\n",
       "      <th>text</th>\n",
       "      <th>label</th>\n",
       "    </tr>\n",
       "  </thead>\n",
       "  <tbody>\n",
       "    <tr>\n",
       "      <th>1889</th>\n",
       "      <td>okay how about a flight on sunday from tampa t...</td>\n",
       "      <td>flight</td>\n",
       "    </tr>\n",
       "    <tr>\n",
       "      <th>1026</th>\n",
       "      <td>what flights are there from cleveland to miami...</td>\n",
       "      <td>flight</td>\n",
       "    </tr>\n",
       "    <tr>\n",
       "      <th>3275</th>\n",
       "      <td>show me all the flights from philadelphia to s...</td>\n",
       "      <td>flight</td>\n",
       "    </tr>\n",
       "    <tr>\n",
       "      <th>3581</th>\n",
       "      <td>how can i get from the airport in pittsburgh t...</td>\n",
       "      <td>flight</td>\n",
       "    </tr>\n",
       "    <tr>\n",
       "      <th>2984</th>\n",
       "      <td>what is the cost of limousine service in phila...</td>\n",
       "      <td>ground_fare</td>\n",
       "    </tr>\n",
       "    <tr>\n",
       "      <th>3297</th>\n",
       "      <td>thanks and what 's the last flight back from w...</td>\n",
       "      <td>flight</td>\n",
       "    </tr>\n",
       "    <tr>\n",
       "      <th>1841</th>\n",
       "      <td>what is the ground transport in denver</td>\n",
       "      <td>ground_service</td>\n",
       "    </tr>\n",
       "    <tr>\n",
       "      <th>3198</th>\n",
       "      <td>tell me about flights from st. petersburg arri...</td>\n",
       "      <td>flight</td>\n",
       "    </tr>\n",
       "    <tr>\n",
       "      <th>3468</th>\n",
       "      <td>show me all the flights arriving around noon i...</td>\n",
       "      <td>flight</td>\n",
       "    </tr>\n",
       "    <tr>\n",
       "      <th>2564</th>\n",
       "      <td>what 's the earliest flight i can get between ...</td>\n",
       "      <td>flight</td>\n",
       "    </tr>\n",
       "  </tbody>\n",
       "</table>\n",
       "</div>"
      ],
      "text/plain": [
       "                                                   text           label\n",
       "1889  okay how about a flight on sunday from tampa t...          flight\n",
       "1026  what flights are there from cleveland to miami...          flight\n",
       "3275  show me all the flights from philadelphia to s...          flight\n",
       "3581  how can i get from the airport in pittsburgh t...          flight\n",
       "2984  what is the cost of limousine service in phila...     ground_fare\n",
       "3297  thanks and what 's the last flight back from w...          flight\n",
       "1841             what is the ground transport in denver  ground_service\n",
       "3198  tell me about flights from st. petersburg arri...          flight\n",
       "3468  show me all the flights arriving around noon i...          flight\n",
       "2564  what 's the earliest flight i can get between ...          flight"
      ]
     },
     "execution_count": 63,
     "metadata": {},
     "output_type": "execute_result"
    }
   ],
   "source": [
    "data.sample(10)"
   ]
  },
  {
   "cell_type": "code",
   "execution_count": 64,
   "id": "ba318209-e9e4-4849-9c3b-4419c88315ea",
   "metadata": {},
   "outputs": [
    {
     "data": {
      "text/html": [
       "<div>\n",
       "<style scoped>\n",
       "    .dataframe tbody tr th:only-of-type {\n",
       "        vertical-align: middle;\n",
       "    }\n",
       "\n",
       "    .dataframe tbody tr th {\n",
       "        vertical-align: top;\n",
       "    }\n",
       "\n",
       "    .dataframe thead th {\n",
       "        text-align: right;\n",
       "    }\n",
       "</style>\n",
       "<table border=\"1\" class=\"dataframe\">\n",
       "  <thead>\n",
       "    <tr style=\"text-align: right;\">\n",
       "      <th></th>\n",
       "      <th>text</th>\n",
       "      <th>label</th>\n",
       "    </tr>\n",
       "  </thead>\n",
       "  <tbody>\n",
       "    <tr>\n",
       "      <th>47</th>\n",
       "      <td>what is fare code h</td>\n",
       "      <td>abbreviation</td>\n",
       "    </tr>\n",
       "    <tr>\n",
       "      <th>55</th>\n",
       "      <td>what is booking class c</td>\n",
       "      <td>abbreviation</td>\n",
       "    </tr>\n",
       "    <tr>\n",
       "      <th>70</th>\n",
       "      <td>what does fare code q mean</td>\n",
       "      <td>abbreviation</td>\n",
       "    </tr>\n",
       "    <tr>\n",
       "      <th>142</th>\n",
       "      <td>what is fare code qw</td>\n",
       "      <td>abbreviation</td>\n",
       "    </tr>\n",
       "    <tr>\n",
       "      <th>223</th>\n",
       "      <td>what does the fare code f mean</td>\n",
       "      <td>abbreviation</td>\n",
       "    </tr>\n",
       "    <tr>\n",
       "      <th>...</th>\n",
       "      <td>...</td>\n",
       "      <td>...</td>\n",
       "    </tr>\n",
       "    <tr>\n",
       "      <th>4308</th>\n",
       "      <td>explain meal codes sd d</td>\n",
       "      <td>abbreviation</td>\n",
       "    </tr>\n",
       "    <tr>\n",
       "      <th>4325</th>\n",
       "      <td>explain the fare codes</td>\n",
       "      <td>abbreviation</td>\n",
       "    </tr>\n",
       "    <tr>\n",
       "      <th>4432</th>\n",
       "      <td>what does ap57 mean</td>\n",
       "      <td>abbreviation</td>\n",
       "    </tr>\n",
       "    <tr>\n",
       "      <th>4449</th>\n",
       "      <td>what is the meaning of restriction ap80</td>\n",
       "      <td>abbreviation</td>\n",
       "    </tr>\n",
       "    <tr>\n",
       "      <th>4518</th>\n",
       "      <td>what does the fare code qw mean</td>\n",
       "      <td>abbreviation</td>\n",
       "    </tr>\n",
       "  </tbody>\n",
       "</table>\n",
       "<p>108 rows × 2 columns</p>\n",
       "</div>"
      ],
      "text/plain": [
       "                                         text         label\n",
       "47                        what is fare code h  abbreviation\n",
       "55                    what is booking class c  abbreviation\n",
       "70                 what does fare code q mean  abbreviation\n",
       "142                      what is fare code qw  abbreviation\n",
       "223            what does the fare code f mean  abbreviation\n",
       "...                                       ...           ...\n",
       "4308                  explain meal codes sd d  abbreviation\n",
       "4325                   explain the fare codes  abbreviation\n",
       "4432                      what does ap57 mean  abbreviation\n",
       "4449  what is the meaning of restriction ap80  abbreviation\n",
       "4518          what does the fare code qw mean  abbreviation\n",
       "\n",
       "[108 rows x 2 columns]"
      ]
     },
     "execution_count": 64,
     "metadata": {},
     "output_type": "execute_result"
    }
   ],
   "source": [
    "data.loc[data.label==\"abbreviation\"]"
   ]
  },
  {
   "cell_type": "code",
   "execution_count": 65,
   "id": "6dc59af0-e0d0-4553-a94a-250f6b7d18a1",
   "metadata": {},
   "outputs": [
    {
     "data": {
      "text/html": [
       "<div>\n",
       "<style scoped>\n",
       "    .dataframe tbody tr th:only-of-type {\n",
       "        vertical-align: middle;\n",
       "    }\n",
       "\n",
       "    .dataframe tbody tr th {\n",
       "        vertical-align: top;\n",
       "    }\n",
       "\n",
       "    .dataframe thead th {\n",
       "        text-align: right;\n",
       "    }\n",
       "</style>\n",
       "<table border=\"1\" class=\"dataframe\">\n",
       "  <thead>\n",
       "    <tr style=\"text-align: right;\">\n",
       "      <th></th>\n",
       "      <th>text</th>\n",
       "      <th>label</th>\n",
       "    </tr>\n",
       "  </thead>\n",
       "  <tbody>\n",
       "    <tr>\n",
       "      <th>40</th>\n",
       "      <td>how far is it from orlando airport to orlando</td>\n",
       "      <td>distance</td>\n",
       "    </tr>\n",
       "    <tr>\n",
       "      <th>94</th>\n",
       "      <td>what is the distance from los angeles internat...</td>\n",
       "      <td>distance</td>\n",
       "    </tr>\n",
       "    <tr>\n",
       "      <th>503</th>\n",
       "      <td>tell me distance from orlando airport to the city</td>\n",
       "      <td>distance</td>\n",
       "    </tr>\n",
       "    <tr>\n",
       "      <th>766</th>\n",
       "      <td>how far is downtown from the airport in dallas</td>\n",
       "      <td>distance</td>\n",
       "    </tr>\n",
       "    <tr>\n",
       "      <th>886</th>\n",
       "      <td>how long does it take to get from atlanta airp...</td>\n",
       "      <td>distance</td>\n",
       "    </tr>\n",
       "    <tr>\n",
       "      <th>1206</th>\n",
       "      <td>how long does it take to get from kansas city ...</td>\n",
       "      <td>distance</td>\n",
       "    </tr>\n",
       "    <tr>\n",
       "      <th>1552</th>\n",
       "      <td>what is the distance between pittsburgh airpor...</td>\n",
       "      <td>distance</td>\n",
       "    </tr>\n",
       "    <tr>\n",
       "      <th>1857</th>\n",
       "      <td>how long does it take to fly from boston to at...</td>\n",
       "      <td>distance</td>\n",
       "    </tr>\n",
       "    <tr>\n",
       "      <th>2195</th>\n",
       "      <td>how far is the airport from san francisco</td>\n",
       "      <td>distance</td>\n",
       "    </tr>\n",
       "    <tr>\n",
       "      <th>2269</th>\n",
       "      <td>what is the distance from la guardia to new yo...</td>\n",
       "      <td>distance</td>\n",
       "    </tr>\n",
       "    <tr>\n",
       "      <th>2593</th>\n",
       "      <td>how far from the airport in the dallas fort wo...</td>\n",
       "      <td>distance</td>\n",
       "    </tr>\n",
       "    <tr>\n",
       "      <th>2659</th>\n",
       "      <td>how far is the airport from downtown pittsburgh</td>\n",
       "      <td>distance</td>\n",
       "    </tr>\n",
       "    <tr>\n",
       "      <th>2989</th>\n",
       "      <td>how far is it from salt lake city airport to s...</td>\n",
       "      <td>distance</td>\n",
       "    </tr>\n",
       "    <tr>\n",
       "      <th>3001</th>\n",
       "      <td>how long does it take to get from denver to oa...</td>\n",
       "      <td>distance</td>\n",
       "    </tr>\n",
       "    <tr>\n",
       "      <th>3013</th>\n",
       "      <td>what is the distance from san francisco intern...</td>\n",
       "      <td>distance</td>\n",
       "    </tr>\n",
       "    <tr>\n",
       "      <th>3859</th>\n",
       "      <td>how long is a trip from philadelphia airport t...</td>\n",
       "      <td>distance</td>\n",
       "    </tr>\n",
       "    <tr>\n",
       "      <th>4185</th>\n",
       "      <td>what is the distance from toronto internationa...</td>\n",
       "      <td>distance</td>\n",
       "    </tr>\n",
       "    <tr>\n",
       "      <th>4380</th>\n",
       "      <td>what is the distance from boston airport to bo...</td>\n",
       "      <td>distance</td>\n",
       "    </tr>\n",
       "    <tr>\n",
       "      <th>4384</th>\n",
       "      <td>how far is oakland airport from downtown</td>\n",
       "      <td>distance</td>\n",
       "    </tr>\n",
       "    <tr>\n",
       "      <th>4540</th>\n",
       "      <td>how long is the flight from atlanta to san fra...</td>\n",
       "      <td>distance</td>\n",
       "    </tr>\n",
       "  </tbody>\n",
       "</table>\n",
       "</div>"
      ],
      "text/plain": [
       "                                                   text     label\n",
       "40        how far is it from orlando airport to orlando  distance\n",
       "94    what is the distance from los angeles internat...  distance\n",
       "503   tell me distance from orlando airport to the city  distance\n",
       "766      how far is downtown from the airport in dallas  distance\n",
       "886   how long does it take to get from atlanta airp...  distance\n",
       "1206  how long does it take to get from kansas city ...  distance\n",
       "1552  what is the distance between pittsburgh airpor...  distance\n",
       "1857  how long does it take to fly from boston to at...  distance\n",
       "2195          how far is the airport from san francisco  distance\n",
       "2269  what is the distance from la guardia to new yo...  distance\n",
       "2593  how far from the airport in the dallas fort wo...  distance\n",
       "2659    how far is the airport from downtown pittsburgh  distance\n",
       "2989  how far is it from salt lake city airport to s...  distance\n",
       "3001  how long does it take to get from denver to oa...  distance\n",
       "3013  what is the distance from san francisco intern...  distance\n",
       "3859  how long is a trip from philadelphia airport t...  distance\n",
       "4185  what is the distance from toronto internationa...  distance\n",
       "4380  what is the distance from boston airport to bo...  distance\n",
       "4384           how far is oakland airport from downtown  distance\n",
       "4540  how long is the flight from atlanta to san fra...  distance"
      ]
     },
     "execution_count": 65,
     "metadata": {},
     "output_type": "execute_result"
    }
   ],
   "source": [
    "data.loc[data.label==\"distance\"]"
   ]
  },
  {
   "cell_type": "code",
   "execution_count": 66,
   "id": "42ac65e8-7c53-4798-af0d-47bae5661b2a",
   "metadata": {},
   "outputs": [
    {
     "data": {
      "text/html": [
       "<div>\n",
       "<style scoped>\n",
       "    .dataframe tbody tr th:only-of-type {\n",
       "        vertical-align: middle;\n",
       "    }\n",
       "\n",
       "    .dataframe tbody tr th {\n",
       "        vertical-align: top;\n",
       "    }\n",
       "\n",
       "    .dataframe thead th {\n",
       "        text-align: right;\n",
       "    }\n",
       "</style>\n",
       "<table border=\"1\" class=\"dataframe\">\n",
       "  <thead>\n",
       "    <tr style=\"text-align: right;\">\n",
       "      <th></th>\n",
       "      <th>text</th>\n",
       "    </tr>\n",
       "    <tr>\n",
       "      <th>label</th>\n",
       "      <th></th>\n",
       "    </tr>\n",
       "  </thead>\n",
       "  <tbody>\n",
       "    <tr>\n",
       "      <th>abbreviation</th>\n",
       "      <td>what is fare code h</td>\n",
       "    </tr>\n",
       "    <tr>\n",
       "      <th>aircraft</th>\n",
       "      <td>what kind of aircraft is used on a flight from...</td>\n",
       "    </tr>\n",
       "    <tr>\n",
       "      <th>aircraft+flight+flight_no</th>\n",
       "      <td>i want to fly from detroit to st. petersburg o...</td>\n",
       "    </tr>\n",
       "    <tr>\n",
       "      <th>airfare</th>\n",
       "      <td>cheapest airfare from tacoma to orlando</td>\n",
       "    </tr>\n",
       "    <tr>\n",
       "      <th>airfare+flight_time</th>\n",
       "      <td>show me the costs and times for flights from s...</td>\n",
       "    </tr>\n",
       "    <tr>\n",
       "      <th>airline</th>\n",
       "      <td>which airline serves denver pittsburgh and atl...</td>\n",
       "    </tr>\n",
       "    <tr>\n",
       "      <th>airline+flight_no</th>\n",
       "      <td>airline and flight number from columbus to min...</td>\n",
       "    </tr>\n",
       "    <tr>\n",
       "      <th>airport</th>\n",
       "      <td>what 's the airport at orlando</td>\n",
       "    </tr>\n",
       "    <tr>\n",
       "      <th>capacity</th>\n",
       "      <td>how many seats in a 100</td>\n",
       "    </tr>\n",
       "    <tr>\n",
       "      <th>cheapest</th>\n",
       "      <td>show me the cheapest fare in the database</td>\n",
       "    </tr>\n",
       "    <tr>\n",
       "      <th>city</th>\n",
       "      <td>what city is the airport mco in</td>\n",
       "    </tr>\n",
       "    <tr>\n",
       "      <th>distance</th>\n",
       "      <td>how far is it from orlando airport to orlando</td>\n",
       "    </tr>\n",
       "    <tr>\n",
       "      <th>flight</th>\n",
       "      <td>i want to fly from boston at 838 am and arrive...</td>\n",
       "    </tr>\n",
       "    <tr>\n",
       "      <th>flight+airfare</th>\n",
       "      <td>give me the flights and fares on december twen...</td>\n",
       "    </tr>\n",
       "    <tr>\n",
       "      <th>flight_no</th>\n",
       "      <td>flight numbers from columbus to minneapolis to...</td>\n",
       "    </tr>\n",
       "    <tr>\n",
       "      <th>flight_time</th>\n",
       "      <td>what is the arrival time in san francisco for ...</td>\n",
       "    </tr>\n",
       "    <tr>\n",
       "      <th>ground_fare</th>\n",
       "      <td>how much does the limousine service cost withi...</td>\n",
       "    </tr>\n",
       "    <tr>\n",
       "      <th>ground_service</th>\n",
       "      <td>what kind of ground transportation is availabl...</td>\n",
       "    </tr>\n",
       "    <tr>\n",
       "      <th>ground_service+ground_fare</th>\n",
       "      <td>what ground transportation is available from t...</td>\n",
       "    </tr>\n",
       "    <tr>\n",
       "      <th>meal</th>\n",
       "      <td>show me all meals on flights from atlanta to w...</td>\n",
       "    </tr>\n",
       "    <tr>\n",
       "      <th>quantity</th>\n",
       "      <td>please tell me how many nonstop flights there ...</td>\n",
       "    </tr>\n",
       "    <tr>\n",
       "      <th>restriction</th>\n",
       "      <td>what are the air restrictions on flights from ...</td>\n",
       "    </tr>\n",
       "  </tbody>\n",
       "</table>\n",
       "</div>"
      ],
      "text/plain": [
       "                                                                         text\n",
       "label                                                                        \n",
       "abbreviation                                              what is fare code h\n",
       "aircraft                    what kind of aircraft is used on a flight from...\n",
       "aircraft+flight+flight_no   i want to fly from detroit to st. petersburg o...\n",
       "airfare                               cheapest airfare from tacoma to orlando\n",
       "airfare+flight_time         show me the costs and times for flights from s...\n",
       "airline                     which airline serves denver pittsburgh and atl...\n",
       "airline+flight_no           airline and flight number from columbus to min...\n",
       "airport                                        what 's the airport at orlando\n",
       "capacity                                              how many seats in a 100\n",
       "cheapest                            show me the cheapest fare in the database\n",
       "city                                          what city is the airport mco in\n",
       "distance                        how far is it from orlando airport to orlando\n",
       "flight                      i want to fly from boston at 838 am and arrive...\n",
       "flight+airfare              give me the flights and fares on december twen...\n",
       "flight_no                   flight numbers from columbus to minneapolis to...\n",
       "flight_time                 what is the arrival time in san francisco for ...\n",
       "ground_fare                 how much does the limousine service cost withi...\n",
       "ground_service              what kind of ground transportation is availabl...\n",
       "ground_service+ground_fare  what ground transportation is available from t...\n",
       "meal                        show me all meals on flights from atlanta to w...\n",
       "quantity                    please tell me how many nonstop flights there ...\n",
       "restriction                 what are the air restrictions on flights from ..."
      ]
     },
     "execution_count": 66,
     "metadata": {},
     "output_type": "execute_result"
    }
   ],
   "source": [
    "data.groupby('label').first()"
   ]
  },
  {
   "cell_type": "code",
   "execution_count": 67,
   "id": "0c40c738-73a2-442f-93cb-46bb5efe584e",
   "metadata": {},
   "outputs": [
    {
     "data": {
      "text/plain": [
       "['i want to fly from boston at 838 am and arrive in denver at 1110 in the morning']"
      ]
     },
     "execution_count": 67,
     "metadata": {},
     "output_type": "execute_result"
    }
   ],
   "source": [
    "data.iloc[0:1][\"text\"].tolist()"
   ]
  },
  {
   "cell_type": "markdown",
   "id": "e90ae34d-7318-406c-895b-4a5a1e90f16e",
   "metadata": {},
   "source": [
    "### Exploratory Data Analysis"
   ]
  },
  {
   "cell_type": "code",
   "execution_count": 68,
   "id": "1ea1e3d8-1c10-4451-93e8-b3cf80a92139",
   "metadata": {},
   "outputs": [
    {
     "data": {
      "image/png": "[encoded data removed]",
      "text/plain": [
       "<Figure size 720x432 with 1 Axes>"
      ]
     },
     "metadata": {
      "needs_background": "light"
     },
     "output_type": "display_data"
    }
   ],
   "source": [
    "# Sentence length analysis\n",
    "data['text_len'] = data['text'].apply(lambda x: len(x.split()))\n",
    "plt.figure(figsize=(10, 6))\n",
    "sns.histplot(data['text_len'], bins=30, kde=True)\n",
    "plt.title('Distribution of Sentence Lengths')\n",
    "plt.xlabel('Number of Words')\n",
    "plt.ylabel('Frequency')\n",
    "plt.show()"
   ]
  },
  {
   "cell_type": "markdown",
   "id": "662cdc2b-ecff-43be-af30-463656b203e8",
   "metadata": {},
   "source": [
    "#### Comment \n",
    "- The maximum length of the sentences are less than 50 \n",
    "- The majority of samples length is between 8 to 15"
   ]
  },
  {
   "cell_type": "code",
   "execution_count": 69,
   "id": "ea4d34b8-9a8d-409d-8ba8-e9cdbfafe4cb",
   "metadata": {},
   "outputs": [
    {
     "name": "stdout",
     "output_type": "stream",
     "text": [
      "Total unique words: 889\n"
     ]
    }
   ],
   "source": [
    "# Vocabulary size\n",
    "all_words = ' '.join(data['text']).split()\n",
    "word_count = Counter(all_words)\n",
    "print(f\"Total unique words: {len(word_count)}\")"
   ]
  },
  {
   "cell_type": "code",
   "execution_count": 70,
   "id": "a3972468-8c7a-46e1-a123-cc9bbe8af124",
   "metadata": {},
   "outputs": [
    {
     "data": {
      "image/png": "[encoded data removed]",
      "text/plain": [
       "<Figure size 720x432 with 1 Axes>"
      ]
     },
     "metadata": {
      "needs_background": "light"
     },
     "output_type": "display_data"
    }
   ],
   "source": [
    "# Most common words\n",
    "common_words = word_count.most_common(20)\n",
    "plt.figure(figsize=(10, 6))\n",
    "sns.barplot(x=[word for word, freq in common_words], y=[freq for word, freq in common_words])\n",
    "plt.title('Top 20 Most Common Words')\n",
    "plt.xlabel('Words')\n",
    "plt.ylabel('Frequency')\n",
    "plt.xticks(rotation=45)\n",
    "plt.show()"
   ]
  },
  {
   "cell_type": "code",
   "execution_count": 71,
   "id": "ee063099-2be5-4567-b26b-f91ef272a4d0",
   "metadata": {},
   "outputs": [
    {
     "data": {
      "image/png": "[encoded data removed]",
      "text/plain": [
       "<Figure size 720x432 with 1 Axes>"
      ]
     },
     "metadata": {
      "needs_background": "light"
     },
     "output_type": "display_data"
    }
   ],
   "source": [
    "# Intent distribution\n",
    "plt.figure(figsize=(10, 6))\n",
    "sns.countplot(y=data['label'], order=data['label'].value_counts().index)\n",
    "plt.title('Intent Distribution')\n",
    "plt.xlabel('Frequency')\n",
    "plt.ylabel('Intent')\n",
    "plt.show()"
   ]
  },
  {
   "cell_type": "markdown",
   "id": "5adae75c-7023-4edd-8c4c-70d864ded8c3",
   "metadata": {},
   "source": [
    "#### Comment \n",
    "- Dataset is skewed or imbalanced majority of class belongs to flight category \n",
    "- Need to apply Data Sampling, Aggregation, Agumenttaion, class weighting techniques to balance the class"
   ]
  },
  {
   "cell_type": "code",
   "execution_count": 72,
   "id": "93b82afd-3b7a-41e3-9c61-87d4f7d7928d",
   "metadata": {},
   "outputs": [
    {
     "data": {
      "image/png": "[encoded data removed]",
      "text/plain": [
       "<Figure size 720x432 with 1 Axes>"
      ]
     },
     "metadata": {
      "needs_background": "light"
     },
     "output_type": "display_data"
    }
   ],
   "source": [
    "# Word Cloud\n",
    "wordcloud = WordCloud(width=800, height=400, background_color='white').generate(' '.join(all_words))\n",
    "plt.figure(figsize=(10, 6))\n",
    "plt.imshow(wordcloud, interpolation='bilinear')\n",
    "plt.axis('off')\n",
    "plt.show()"
   ]
  },
  {
   "cell_type": "code",
   "execution_count": 73,
   "id": "28881a10-d1ae-4229-ac19-c4f9c7f1d0f0",
   "metadata": {},
   "outputs": [
    {
     "data": {
      "text/plain": [
       "flight                        3426\n",
       "airfare                        403\n",
       "ground_service                 235\n",
       "airline                        148\n",
       "abbreviation                   108\n",
       "aircraft                        78\n",
       "flight_time                     52\n",
       "quantity                        49\n",
       "distance                        20\n",
       "city                            18\n",
       "airport                         18\n",
       "ground_fare                     17\n",
       "flight+airfare                  17\n",
       "capacity                        16\n",
       "flight_no                       12\n",
       "meal                             6\n",
       "restriction                      5\n",
       "airline+flight_no                2\n",
       "ground_service+ground_fare       1\n",
       "airfare+flight_time              1\n",
       "cheapest                         1\n",
       "aircraft+flight+flight_no        1\n",
       "Name: label, dtype: int64"
      ]
     },
     "execution_count": 73,
     "metadata": {},
     "output_type": "execute_result"
    }
   ],
   "source": [
    "data.label.value_counts()"
   ]
  },
  {
   "cell_type": "markdown",
   "id": "7610cbaa-6ee6-46eb-9ca7-91603caa0cab",
   "metadata": {},
   "source": [
    "### Data Aggregation to combine similar class"
   ]
  },
  {
   "cell_type": "code",
   "execution_count": 74,
   "id": "e4a4b88a-7094-49ce-8941-4fa41363e867",
   "metadata": {},
   "outputs": [],
   "source": [
    "# Class mapping dictionary\n",
    "class_mapping = {\n",
    "    'flight': 'flight_info',\n",
    "    'flight_time': 'flight_info',\n",
    "    'flight_no': 'flight_info',\n",
    "    'aircraft+flight+flight_no': 'flight_info',\n",
    "    'airfare': 'airfare_info',\n",
    "    'flight+airfare': 'airfare_info',\n",
    "    'airfare+flight_time': 'airfare_info',\n",
    "    'cheapest': 'airfare_info',\n",
    "    'ground_service': 'ground_service_info',\n",
    "    'ground_fare': 'ground_service_info',\n",
    "    'ground_service+ground_fare': 'ground_service_info',\n",
    "    'airline': 'airline_info',\n",
    "    'airline+flight_no': 'airline_info',\n",
    "    'abbreviation': 'misc_info',\n",
    "    'meal':'misc_info',\n",
    "    'distance':'misc_info',\n",
    "    'capacity': 'misc_info',\n",
    "    'quantity': 'misc_info',\n",
    "    'restriction': 'misc_info',\n",
    "    'city': 'location_info',\n",
    "    'airport': 'location_info'\n",
    "}"
   ]
  },
  {
   "cell_type": "code",
   "execution_count": 75,
   "id": "d318020e-6960-4972-b6ac-86a2355357cc",
   "metadata": {},
   "outputs": [],
   "source": [
    "data['label'] = data['label'].map(class_mapping).fillna(data['label'])"
   ]
  },
  {
   "cell_type": "code",
   "execution_count": 76,
   "id": "16d05bec-9c6a-46bd-8f13-b0fcec28f5de",
   "metadata": {},
   "outputs": [
    {
     "data": {
      "text/plain": [
       "flight_info            3491\n",
       "airfare_info            422\n",
       "ground_service_info     253\n",
       "misc_info               204\n",
       "airline_info            150\n",
       "aircraft                 78\n",
       "location_info            36\n",
       "Name: label, dtype: int64"
      ]
     },
     "execution_count": 76,
     "metadata": {},
     "output_type": "execute_result"
    }
   ],
   "source": [
    "data.label.value_counts()"
   ]
  },
  {
   "cell_type": "code",
   "execution_count": 78,
   "id": "cfc9fcfb-601c-4462-b7d0-ed1c8e24cf12",
   "metadata": {},
   "outputs": [],
   "source": [
    "# Perform undersampling on the 'flight' class\n",
    "#data_flight_undersampled = data[data['label'] == 'flight_info'].sample(n=target_size, random_state=42)"
   ]
  },
  {
   "cell_type": "code",
   "execution_count": 79,
   "id": "8335fee3-a078-4fec-9b71-dc1d7cad0992",
   "metadata": {},
   "outputs": [],
   "source": [
    "# Combine with the remaining classes (which are not undersampled)\n",
    "#data_remaining = data[data['label'] != 'flight_info']"
   ]
  },
  {
   "cell_type": "code",
   "execution_count": 80,
   "id": "66c4814b-37ab-4050-9195-9d4deb9ebbb6",
   "metadata": {},
   "outputs": [],
   "source": [
    "# Concatenate the undersampled 'flight_info' class with the remaining data\n",
    "#data_balanced = pd.concat([data_flight_undersampled, data_remaining])\n",
    "\n",
    "# Shuffle the dataset\n",
    "#data_balanced = data_balanced.sample(frac=1, random_state=42).reset_index(drop=True)"
   ]
  },
  {
   "cell_type": "code",
   "execution_count": 81,
   "id": "d2ed5e23-8402-4193-b122-57fbbb896f4c",
   "metadata": {},
   "outputs": [],
   "source": [
    "#data_balanced.label.value_counts()"
   ]
  },
  {
   "cell_type": "code",
   "execution_count": 82,
   "id": "97b1107c-204e-45de-b405-47093b5b2f14",
   "metadata": {},
   "outputs": [],
   "source": [
    "@keras.utils.register_keras_serializable()\n",
    "def custom_standardization(input_data):\n",
    "    # 1. Convert to lowercase\n",
    "    lowercase = tf.strings.lower(input_data)\n",
    "    \n",
    "    # 2. Remove punctuation\n",
    "    stripped_punctuation = tf.strings.regex_replace(lowercase, f\"[{re.escape(string.punctuation)}]\", \"\")\n",
    "    \n",
    "    # 3. Remove extra whitespace\n",
    "    return tf.strings.strip(stripped_punctuation)"
   ]
  },
  {
   "cell_type": "code",
   "execution_count": 83,
   "id": "8ab26323-615d-4b78-8c68-1b9ac90cf715",
   "metadata": {},
   "outputs": [
    {
     "data": {
      "text/plain": [
       "(4634, 3)"
      ]
     },
     "execution_count": 83,
     "metadata": {},
     "output_type": "execute_result"
    }
   ],
   "source": [
    "data.shape"
   ]
  },
  {
   "cell_type": "code",
   "execution_count": 84,
   "id": "c7f49432-8113-469e-bd47-bcf82ccba7b2",
   "metadata": {},
   "outputs": [],
   "source": [
    "# Split the dataset into training and validation sets\n",
    "X_train, X_val, y_train, y_val = train_test_split(data['text'], data['label'], test_size=0.2, random_state=42)"
   ]
  },
  {
   "cell_type": "code",
   "execution_count": 85,
   "id": "d25bab2b-9b35-4f29-bd4b-44c1300eeb31",
   "metadata": {},
   "outputs": [
    {
     "data": {
      "text/plain": [
       "((3707,), (3707,))"
      ]
     },
     "execution_count": 85,
     "metadata": {},
     "output_type": "execute_result"
    }
   ],
   "source": [
    "X_train.shape, y_train.shape"
   ]
  },
  {
   "cell_type": "code",
   "execution_count": 86,
   "id": "57bd1890-e269-4353-890c-3d7fa0c4eed4",
   "metadata": {},
   "outputs": [
    {
     "data": {
      "text/plain": [
       "flight_info            2788\n",
       "airfare_info            338\n",
       "ground_service_info     210\n",
       "misc_info               158\n",
       "airline_info            116\n",
       "aircraft                 65\n",
       "location_info            32\n",
       "Name: label, dtype: int64"
      ]
     },
     "execution_count": 86,
     "metadata": {},
     "output_type": "execute_result"
    }
   ],
   "source": [
    "y_train.value_counts()"
   ]
  },
  {
   "cell_type": "code",
   "execution_count": 157,
   "id": "37b5b81b-f1da-420b-8fd3-02c54fff96a6",
   "metadata": {},
   "outputs": [
    {
     "name": "stdout",
     "output_type": "stream",
     "text": [
      "Number of records for X_train is  (3707,)\n",
      "Number of records for X_resampled oversampling is  (8738, 1)\n"
     ]
    }
   ],
   "source": [
    "over_sampler = RandomOverSampler(sampling_strategy={'airfare_info':800,'ground_service_info':950,'misc_info':1500, 'airline_info':1250, 'aircraft':750, 'location_info':700},random_state=42)\n",
    "X_oversampled, y_oversampled = over_sampler.fit_resample(X_train.values.reshape(-1, 1), y_train)\n",
    "print(\"Number of records for X_train is \", X_train.shape)\n",
    "print(\"Number of records for X_resampled oversampling is \",X_oversampled.shape)"
   ]
  },
  {
   "cell_type": "code",
   "execution_count": 158,
   "id": "56ddde69-2c4c-432b-8feb-007d8a6a51a8",
   "metadata": {},
   "outputs": [
    {
     "data": {
      "text/plain": [
       "numpy.ndarray"
      ]
     },
     "execution_count": 158,
     "metadata": {},
     "output_type": "execute_result"
    }
   ],
   "source": [
    "type(X_oversampled)"
   ]
  },
  {
   "cell_type": "code",
   "execution_count": 159,
   "id": "27f1b334-ecac-403d-9a27-6c31005125c7",
   "metadata": {},
   "outputs": [],
   "source": [
    "X_oversampled = X_oversampled.flatten()"
   ]
  },
  {
   "cell_type": "code",
   "execution_count": 160,
   "id": "0db8309e-0aa7-4374-8919-2cb3bdb8cdb4",
   "metadata": {},
   "outputs": [
    {
     "data": {
      "text/plain": [
       "(8738,)"
      ]
     },
     "execution_count": 160,
     "metadata": {},
     "output_type": "execute_result"
    }
   ],
   "source": [
    "X_oversampled.shape"
   ]
  },
  {
   "cell_type": "code",
   "execution_count": 161,
   "id": "c77ea4a1-c9b3-4bd7-b421-c28a3c2bc2d0",
   "metadata": {},
   "outputs": [
    {
     "data": {
      "text/plain": [
       "flight_info            2788\n",
       "misc_info              1500\n",
       "airline_info           1250\n",
       "ground_service_info     950\n",
       "airfare_info            800\n",
       "aircraft                750\n",
       "location_info           700\n",
       "Name: label, dtype: int64"
      ]
     },
     "execution_count": 161,
     "metadata": {},
     "output_type": "execute_result"
    }
   ],
   "source": [
    "y_oversampled.value_counts()"
   ]
  },
  {
   "cell_type": "code",
   "execution_count": 162,
   "id": "43c4ab1c-a282-4b5f-9c24-bc4e76099d4b",
   "metadata": {},
   "outputs": [],
   "source": [
    "# One-Hot Encode the labels\n",
    "encoder = OneHotEncoder(sparse=False,handle_unknown=\"ignore\")\n",
    "y_train_enc = encoder.fit_transform(y_oversampled.to_numpy().reshape(-1, 1))\n",
    "y_val_enc = encoder.transform(y_val.to_numpy().reshape(-1, 1))"
   ]
  },
  {
   "cell_type": "code",
   "execution_count": 163,
   "id": "5f4c97b8-08b7-4fe1-95f5-91cdcb9c88a0",
   "metadata": {},
   "outputs": [
    {
     "data": {
      "text/plain": [
       "array([0., 0., 0., 1., 0., 0., 0.])"
      ]
     },
     "execution_count": 163,
     "metadata": {},
     "output_type": "execute_result"
    }
   ],
   "source": [
    "y_train_enc[0]"
   ]
  },
  {
   "cell_type": "code",
   "execution_count": 164,
   "id": "47a19b0e-d567-4af9-b39d-7e98c9f9572a",
   "metadata": {},
   "outputs": [
    {
     "data": {
      "text/plain": [
       "array([[0., 0., 0., ..., 0., 0., 0.],\n",
       "       [0., 0., 0., ..., 0., 0., 0.],\n",
       "       [0., 0., 0., ..., 0., 0., 0.],\n",
       "       ...,\n",
       "       [0., 0., 0., ..., 0., 0., 1.],\n",
       "       [0., 0., 0., ..., 0., 0., 1.],\n",
       "       [0., 0., 0., ..., 0., 0., 1.]])"
      ]
     },
     "execution_count": 164,
     "metadata": {},
     "output_type": "execute_result"
    }
   ],
   "source": [
    "y_train_enc"
   ]
  },
  {
   "cell_type": "code",
   "execution_count": 165,
   "id": "b1b70608-678d-479f-9dec-f5d19f0b32d3",
   "metadata": {},
   "outputs": [
    {
     "data": {
      "text/plain": [
       "7"
      ]
     },
     "execution_count": 165,
     "metadata": {},
     "output_type": "execute_result"
    }
   ],
   "source": [
    "y_train_enc.shape[1]"
   ]
  },
  {
   "cell_type": "code",
   "execution_count": 166,
   "id": "36e99d3a-00b0-4f02-9f4c-6fbc0e270026",
   "metadata": {},
   "outputs": [],
   "source": [
    "max_words = 1000\n",
    "max_len = 50\n",
    "vectorize_layer = TextVectorization(\n",
    "    standardize=custom_standardization,\n",
    "    max_tokens=max_words,\n",
    "    output_mode=\"int\",\n",
    "    output_sequence_length=max_len,\n",
    "    pad_to_max_tokens = True,\n",
    ")"
   ]
  },
  {
   "cell_type": "code",
   "execution_count": 168,
   "id": "e39e6553-a4ee-44d8-9e0e-1696a8cef4ea",
   "metadata": {},
   "outputs": [
    {
     "data": {
      "text/plain": [
       "array([\"show me all flights from atlanta to san francisco which leave atlanta after 5 o'clock pm tomorrow\",\n",
       "       'all flights from washington dc to san francisco after 5 pm on november twelfth economy class',\n",
       "       'i would like a us air flight from toronto to san diego with a stopover in denver please',\n",
       "       ...,\n",
       "       'what is the total seating capacity of all aircraft of american airlines',\n",
       "       'list number of people that can be carried on each type of plane that flies between pittsburgh and baltimore',\n",
       "       'how many first class flights are provided by american airlines'],\n",
       "      dtype=object)"
      ]
     },
     "execution_count": 168,
     "metadata": {},
     "output_type": "execute_result"
    }
   ],
   "source": [
    "X_oversampled"
   ]
  },
  {
   "cell_type": "code",
   "execution_count": 169,
   "id": "2dac14f5-1fc2-4ced-b4a7-cb0b124ccc17",
   "metadata": {},
   "outputs": [],
   "source": [
    "vectorize_layer.adapt(X_train)"
   ]
  },
  {
   "cell_type": "code",
   "execution_count": 170,
   "id": "ea7a290c-ff8a-4b0e-9e32-7df7941ca4bd",
   "metadata": {},
   "outputs": [
    {
     "data": {
      "text/plain": [
       "<tf.Tensor: shape=(1, 50), dtype=int64, numpy=\n",
       "array([[13,  8, 23,  4,  3, 19,  2, 12, 17, 68,  0,  0,  0,  0,  0,  0,\n",
       "         0,  0,  0,  0,  0,  0,  0,  0,  0,  0,  0,  0,  0,  0,  0,  0,\n",
       "         0,  0,  0,  0,  0,  0,  0,  0,  0,  0,  0,  0,  0,  0,  0,  0,\n",
       "         0,  0]])>"
      ]
     },
     "execution_count": 170,
     "metadata": {},
     "output_type": "execute_result"
    }
   ],
   "source": [
    "vectorize_layer.call([\"show me all flights from atlanta to san francisco which \"])"
   ]
  },
  {
   "cell_type": "code",
   "execution_count": 171,
   "id": "73493d92-4832-4470-871f-3ac58cf28c93",
   "metadata": {},
   "outputs": [],
   "source": [
    "# Build the LSTM model\n",
    "embedding_dim = 128\n",
    "lstm_units = 256\n",
    "\n",
    "model = Sequential([\n",
    "    vectorize_layer,\n",
    "    Embedding(input_dim=max_words, output_dim=embedding_dim),\n",
    "    LSTM(lstm_units, return_sequences=False),\n",
    "    Dropout(0.25),\n",
    "    Dense(128, activation='relu'),\n",
    "    Dropout(0.25),\n",
    "    Dense(y_train_enc.shape[1], activation='softmax')\n",
    "])"
   ]
  },
  {
   "cell_type": "code",
   "execution_count": 172,
   "id": "79ab8a2a-8980-4efa-a944-661963aac2cd",
   "metadata": {},
   "outputs": [],
   "source": [
    "# Compile the model\n",
    "model.compile(optimizer='adam', loss='categorical_crossentropy', metrics=['accuracy'])"
   ]
  },
  {
   "cell_type": "code",
   "execution_count": 173,
   "id": "545622c6-f4bc-49e4-975c-bc2c25a3bd06",
   "metadata": {},
   "outputs": [],
   "source": [
    "model.build(X_train.shape)"
   ]
  },
  {
   "cell_type": "code",
   "execution_count": 174,
   "id": "62310324-87d7-4688-872c-5d64e2faa4eb",
   "metadata": {},
   "outputs": [
    {
     "data": {
      "text/html": [
       "<pre style=\"white-space:pre;overflow-x:auto;line-height:normal;font-family:Menlo,'DejaVu Sans Mono',consolas,'Courier New',monospace\"><span style=\"font-weight: bold\">Model: \"sequential_4\"</span>\n",
       "</pre>\n"
      ],
      "text/plain": [
       "\u001b[1mModel: \"sequential_4\"\u001b[0m\n"
      ]
     },
     "metadata": {},
     "output_type": "display_data"
    },
    {
     "data": {
      "text/html": [
       "<pre style=\"white-space:pre;overflow-x:auto;line-height:normal;font-family:Menlo,'DejaVu Sans Mono',consolas,'Courier New',monospace\">┏━━━━━━━━━━━━━━━━━━━━━━━━━━━━━━━━━┳━━━━━━━━━━━━━━━━━━━━━━━━┳━━━━━━━━━━━━━━━┓\n",
       "┃<span style=\"font-weight: bold\"> Layer (type)                    </span>┃<span style=\"font-weight: bold\"> Output Shape           </span>┃<span style=\"font-weight: bold\">       Param # </span>┃\n",
       "┡━━━━━━━━━━━━━━━━━━━━━━━━━━━━━━━━━╇━━━━━━━━━━━━━━━━━━━━━━━━╇━━━━━━━━━━━━━━━┩\n",
       "│ text_vectorization_4            │ (<span style=\"color: #00af00; text-decoration-color: #00af00\">3707</span>, <span style=\"color: #00af00; text-decoration-color: #00af00\">50</span>)             │             <span style=\"color: #00af00; text-decoration-color: #00af00\">0</span> │\n",
       "│ (<span style=\"color: #0087ff; text-decoration-color: #0087ff\">TextVectorization</span>)             │                        │               │\n",
       "├─────────────────────────────────┼────────────────────────┼───────────────┤\n",
       "│ embedding_4 (<span style=\"color: #0087ff; text-decoration-color: #0087ff\">Embedding</span>)         │ (<span style=\"color: #00af00; text-decoration-color: #00af00\">3707</span>, <span style=\"color: #00af00; text-decoration-color: #00af00\">50</span>, <span style=\"color: #00af00; text-decoration-color: #00af00\">128</span>)        │       <span style=\"color: #00af00; text-decoration-color: #00af00\">128,000</span> │\n",
       "├─────────────────────────────────┼────────────────────────┼───────────────┤\n",
       "│ lstm_4 (<span style=\"color: #0087ff; text-decoration-color: #0087ff\">LSTM</span>)                   │ (<span style=\"color: #00af00; text-decoration-color: #00af00\">3707</span>, <span style=\"color: #00af00; text-decoration-color: #00af00\">256</span>)            │       <span style=\"color: #00af00; text-decoration-color: #00af00\">394,240</span> │\n",
       "├─────────────────────────────────┼────────────────────────┼───────────────┤\n",
       "│ dropout_8 (<span style=\"color: #0087ff; text-decoration-color: #0087ff\">Dropout</span>)             │ (<span style=\"color: #00af00; text-decoration-color: #00af00\">3707</span>, <span style=\"color: #00af00; text-decoration-color: #00af00\">256</span>)            │             <span style=\"color: #00af00; text-decoration-color: #00af00\">0</span> │\n",
       "├─────────────────────────────────┼────────────────────────┼───────────────┤\n",
       "│ dense_8 (<span style=\"color: #0087ff; text-decoration-color: #0087ff\">Dense</span>)                 │ (<span style=\"color: #00af00; text-decoration-color: #00af00\">3707</span>, <span style=\"color: #00af00; text-decoration-color: #00af00\">128</span>)            │        <span style=\"color: #00af00; text-decoration-color: #00af00\">32,896</span> │\n",
       "├─────────────────────────────────┼────────────────────────┼───────────────┤\n",
       "│ dropout_9 (<span style=\"color: #0087ff; text-decoration-color: #0087ff\">Dropout</span>)             │ (<span style=\"color: #00af00; text-decoration-color: #00af00\">3707</span>, <span style=\"color: #00af00; text-decoration-color: #00af00\">128</span>)            │             <span style=\"color: #00af00; text-decoration-color: #00af00\">0</span> │\n",
       "├─────────────────────────────────┼────────────────────────┼───────────────┤\n",
       "│ dense_9 (<span style=\"color: #0087ff; text-decoration-color: #0087ff\">Dense</span>)                 │ (<span style=\"color: #00af00; text-decoration-color: #00af00\">3707</span>, <span style=\"color: #00af00; text-decoration-color: #00af00\">7</span>)              │           <span style=\"color: #00af00; text-decoration-color: #00af00\">903</span> │\n",
       "└─────────────────────────────────┴────────────────────────┴───────────────┘\n",
       "</pre>\n"
      ],
      "text/plain": [
       "┏━━━━━━━━━━━━━━━━━━━━━━━━━━━━━━━━━┳━━━━━━━━━━━━━━━━━━━━━━━━┳━━━━━━━━━━━━━━━┓\n",
       "┃\u001b[1m \u001b[0m\u001b[1mLayer (type)                   \u001b[0m\u001b[1m \u001b[0m┃\u001b[1m \u001b[0m\u001b[1mOutput Shape          \u001b[0m\u001b[1m \u001b[0m┃\u001b[1m \u001b[0m\u001b[1m      Param #\u001b[0m\u001b[1m \u001b[0m┃\n",
       "┡━━━━━━━━━━━━━━━━━━━━━━━━━━━━━━━━━╇━━━━━━━━━━━━━━━━━━━━━━━━╇━━━━━━━━━━━━━━━┩\n",
       "│ text_vectorization_4            │ (\u001b[38;5;34m3707\u001b[0m, \u001b[38;5;34m50\u001b[0m)             │             \u001b[38;5;34m0\u001b[0m │\n",
       "│ (\u001b[38;5;33mTextVectorization\u001b[0m)             │                        │               │\n",
       "├─────────────────────────────────┼────────────────────────┼───────────────┤\n",
       "│ embedding_4 (\u001b[38;5;33mEmbedding\u001b[0m)         │ (\u001b[38;5;34m3707\u001b[0m, \u001b[38;5;34m50\u001b[0m, \u001b[38;5;34m128\u001b[0m)        │       \u001b[38;5;34m128,000\u001b[0m │\n",
       "├─────────────────────────────────┼────────────────────────┼───────────────┤\n",
       "│ lstm_4 (\u001b[38;5;33mLSTM\u001b[0m)                   │ (\u001b[38;5;34m3707\u001b[0m, \u001b[38;5;34m256\u001b[0m)            │       \u001b[38;5;34m394,240\u001b[0m │\n",
       "├─────────────────────────────────┼────────────────────────┼───────────────┤\n",
       "│ dropout_8 (\u001b[38;5;33mDropout\u001b[0m)             │ (\u001b[38;5;34m3707\u001b[0m, \u001b[38;5;34m256\u001b[0m)            │             \u001b[38;5;34m0\u001b[0m │\n",
       "├─────────────────────────────────┼────────────────────────┼───────────────┤\n",
       "│ dense_8 (\u001b[38;5;33mDense\u001b[0m)                 │ (\u001b[38;5;34m3707\u001b[0m, \u001b[38;5;34m128\u001b[0m)            │        \u001b[38;5;34m32,896\u001b[0m │\n",
       "├─────────────────────────────────┼────────────────────────┼───────────────┤\n",
       "│ dropout_9 (\u001b[38;5;33mDropout\u001b[0m)             │ (\u001b[38;5;34m3707\u001b[0m, \u001b[38;5;34m128\u001b[0m)            │             \u001b[38;5;34m0\u001b[0m │\n",
       "├─────────────────────────────────┼────────────────────────┼───────────────┤\n",
       "│ dense_9 (\u001b[38;5;33mDense\u001b[0m)                 │ (\u001b[38;5;34m3707\u001b[0m, \u001b[38;5;34m7\u001b[0m)              │           \u001b[38;5;34m903\u001b[0m │\n",
       "└─────────────────────────────────┴────────────────────────┴───────────────┘\n"
      ]
     },
     "metadata": {},
     "output_type": "display_data"
    },
    {
     "data": {
      "text/html": [
       "<pre style=\"white-space:pre;overflow-x:auto;line-height:normal;font-family:Menlo,'DejaVu Sans Mono',consolas,'Courier New',monospace\"><span style=\"font-weight: bold\"> Total params: </span><span style=\"color: #00af00; text-decoration-color: #00af00\">556,039</span> (2.12 MB)\n",
       "</pre>\n"
      ],
      "text/plain": [
       "\u001b[1m Total params: \u001b[0m\u001b[38;5;34m556,039\u001b[0m (2.12 MB)\n"
      ]
     },
     "metadata": {},
     "output_type": "display_data"
    },
    {
     "data": {
      "text/html": [
       "<pre style=\"white-space:pre;overflow-x:auto;line-height:normal;font-family:Menlo,'DejaVu Sans Mono',consolas,'Courier New',monospace\"><span style=\"font-weight: bold\"> Trainable params: </span><span style=\"color: #00af00; text-decoration-color: #00af00\">556,039</span> (2.12 MB)\n",
       "</pre>\n"
      ],
      "text/plain": [
       "\u001b[1m Trainable params: \u001b[0m\u001b[38;5;34m556,039\u001b[0m (2.12 MB)\n"
      ]
     },
     "metadata": {},
     "output_type": "display_data"
    },
    {
     "data": {
      "text/html": [
       "<pre style=\"white-space:pre;overflow-x:auto;line-height:normal;font-family:Menlo,'DejaVu Sans Mono',consolas,'Courier New',monospace\"><span style=\"font-weight: bold\"> Non-trainable params: </span><span style=\"color: #00af00; text-decoration-color: #00af00\">0</span> (0.00 B)\n",
       "</pre>\n"
      ],
      "text/plain": [
       "\u001b[1m Non-trainable params: \u001b[0m\u001b[38;5;34m0\u001b[0m (0.00 B)\n"
      ]
     },
     "metadata": {},
     "output_type": "display_data"
    }
   ],
   "source": [
    "# Model summary\n",
    "model.summary()"
   ]
  },
  {
   "cell_type": "code",
   "execution_count": 175,
   "id": "17cebf79-fc15-4aca-bb8e-44f1a8d98ab5",
   "metadata": {},
   "outputs": [
    {
     "data": {
      "text/plain": [
       "{'name': 'sequential_4',\n",
       " 'trainable': True,\n",
       " 'dtype': 'float32',\n",
       " 'layers': [{'module': 'keras.layers',\n",
       "   'class_name': 'InputLayer',\n",
       "   'config': {'batch_shape': (3707,),\n",
       "    'dtype': 'string',\n",
       "    'sparse': False,\n",
       "    'name': 'input_layer_4'},\n",
       "   'registered_name': None},\n",
       "  {'module': 'keras.layers',\n",
       "   'class_name': 'TextVectorization',\n",
       "   'config': {'name': 'text_vectorization_4',\n",
       "    'trainable': True,\n",
       "    'dtype': 'float32',\n",
       "    'max_tokens': 1000,\n",
       "    'standardize': {'module': 'builtins',\n",
       "     'class_name': 'function',\n",
       "     'config': 'custom_standardization',\n",
       "     'registered_name': 'function'},\n",
       "    'split': 'whitespace',\n",
       "    'ngrams': None,\n",
       "    'output_mode': 'int',\n",
       "    'output_sequence_length': 50,\n",
       "    'pad_to_max_tokens': True,\n",
       "    'sparse': False,\n",
       "    'ragged': False,\n",
       "    'vocabulary': None,\n",
       "    'idf_weights': None,\n",
       "    'encoding': 'utf-8',\n",
       "    'vocabulary_size': 830},\n",
       "   'registered_name': None,\n",
       "   'build_config': {'input_shape': (3707,)}},\n",
       "  {'module': 'keras.layers',\n",
       "   'class_name': 'Embedding',\n",
       "   'config': {'name': 'embedding_4',\n",
       "    'trainable': True,\n",
       "    'dtype': 'float32',\n",
       "    'input_dim': 1000,\n",
       "    'output_dim': 128,\n",
       "    'embeddings_initializer': {'module': 'keras.initializers',\n",
       "     'class_name': 'RandomUniform',\n",
       "     'config': {'minval': -0.05, 'maxval': 0.05, 'seed': None},\n",
       "     'registered_name': None},\n",
       "    'embeddings_regularizer': None,\n",
       "    'activity_regularizer': None,\n",
       "    'embeddings_constraint': None,\n",
       "    'mask_zero': False},\n",
       "   'registered_name': None,\n",
       "   'build_config': {'input_shape': (3707, 50)}},\n",
       "  {'module': 'keras.layers',\n",
       "   'class_name': 'LSTM',\n",
       "   'config': {'name': 'lstm_4',\n",
       "    'trainable': True,\n",
       "    'dtype': 'float32',\n",
       "    'return_sequences': False,\n",
       "    'return_state': False,\n",
       "    'go_backwards': False,\n",
       "    'stateful': False,\n",
       "    'unroll': False,\n",
       "    'zero_output_for_mask': False,\n",
       "    'units': 256,\n",
       "    'activation': 'tanh',\n",
       "    'recurrent_activation': 'sigmoid',\n",
       "    'use_bias': True,\n",
       "    'kernel_initializer': {'module': 'keras.initializers',\n",
       "     'class_name': 'GlorotUniform',\n",
       "     'config': {'seed': None},\n",
       "     'registered_name': None},\n",
       "    'recurrent_initializer': {'module': 'keras.initializers',\n",
       "     'class_name': 'OrthogonalInitializer',\n",
       "     'config': {'gain': 1.0, 'seed': None},\n",
       "     'registered_name': None},\n",
       "    'bias_initializer': {'module': 'keras.initializers',\n",
       "     'class_name': 'Zeros',\n",
       "     'config': {},\n",
       "     'registered_name': None},\n",
       "    'unit_forget_bias': True,\n",
       "    'kernel_regularizer': None,\n",
       "    'recurrent_regularizer': None,\n",
       "    'bias_regularizer': None,\n",
       "    'activity_regularizer': None,\n",
       "    'kernel_constraint': None,\n",
       "    'recurrent_constraint': None,\n",
       "    'bias_constraint': None,\n",
       "    'dropout': 0.0,\n",
       "    'recurrent_dropout': 0.0,\n",
       "    'seed': None},\n",
       "   'registered_name': None,\n",
       "   'build_config': {'input_shape': (3707, 50, 128)}},\n",
       "  {'module': 'keras.layers',\n",
       "   'class_name': 'Dropout',\n",
       "   'config': {'name': 'dropout_8',\n",
       "    'trainable': True,\n",
       "    'dtype': 'float32',\n",
       "    'rate': 0.25,\n",
       "    'seed': None,\n",
       "    'noise_shape': None},\n",
       "   'registered_name': None},\n",
       "  {'module': 'keras.layers',\n",
       "   'class_name': 'Dense',\n",
       "   'config': {'name': 'dense_8',\n",
       "    'trainable': True,\n",
       "    'dtype': 'float32',\n",
       "    'units': 128,\n",
       "    'activation': 'relu',\n",
       "    'use_bias': True,\n",
       "    'kernel_initializer': {'module': 'keras.initializers',\n",
       "     'class_name': 'GlorotUniform',\n",
       "     'config': {'seed': None},\n",
       "     'registered_name': None},\n",
       "    'bias_initializer': {'module': 'keras.initializers',\n",
       "     'class_name': 'Zeros',\n",
       "     'config': {},\n",
       "     'registered_name': None},\n",
       "    'kernel_regularizer': None,\n",
       "    'bias_regularizer': None,\n",
       "    'kernel_constraint': None,\n",
       "    'bias_constraint': None},\n",
       "   'registered_name': None,\n",
       "   'build_config': {'input_shape': (3707, 256)}},\n",
       "  {'module': 'keras.layers',\n",
       "   'class_name': 'Dropout',\n",
       "   'config': {'name': 'dropout_9',\n",
       "    'trainable': True,\n",
       "    'dtype': 'float32',\n",
       "    'rate': 0.25,\n",
       "    'seed': None,\n",
       "    'noise_shape': None},\n",
       "   'registered_name': None},\n",
       "  {'module': 'keras.layers',\n",
       "   'class_name': 'Dense',\n",
       "   'config': {'name': 'dense_9',\n",
       "    'trainable': True,\n",
       "    'dtype': 'float32',\n",
       "    'units': 7,\n",
       "    'activation': 'softmax',\n",
       "    'use_bias': True,\n",
       "    'kernel_initializer': {'module': 'keras.initializers',\n",
       "     'class_name': 'GlorotUniform',\n",
       "     'config': {'seed': None},\n",
       "     'registered_name': None},\n",
       "    'bias_initializer': {'module': 'keras.initializers',\n",
       "     'class_name': 'Zeros',\n",
       "     'config': {},\n",
       "     'registered_name': None},\n",
       "    'kernel_regularizer': None,\n",
       "    'bias_regularizer': None,\n",
       "    'kernel_constraint': None,\n",
       "    'bias_constraint': None},\n",
       "   'registered_name': None,\n",
       "   'build_config': {'input_shape': (3707, 128)}}],\n",
       " 'build_input_shape': (3707,)}"
      ]
     },
     "execution_count": 175,
     "metadata": {},
     "output_type": "execute_result"
    }
   ],
   "source": [
    "model.get_config()"
   ]
  },
  {
   "cell_type": "code",
   "execution_count": 176,
   "id": "378db219-49b2-4cf5-b03d-86891042609a",
   "metadata": {},
   "outputs": [
    {
     "data": {
      "text/plain": [
       "array(['aircraft', 'airfare_info', 'airline_info', 'flight_info',\n",
       "       'ground_service_info', 'location_info', 'misc_info'], dtype=object)"
      ]
     },
     "execution_count": 176,
     "metadata": {},
     "output_type": "execute_result"
    }
   ],
   "source": [
    "np.unique(y_train)"
   ]
  },
  {
   "cell_type": "code",
   "execution_count": 177,
   "id": "b81e1a24-55ce-4763-bffc-b1ed51dbedd0",
   "metadata": {},
   "outputs": [
    {
     "name": "stdout",
     "output_type": "stream",
     "text": [
      "Epoch 1/15\n",
      "\u001b[1m547/547\u001b[0m \u001b[32m━━━━━━━━━━━━━━━━━━━━\u001b[0m\u001b[37m\u001b[0m \u001b[1m22s\u001b[0m 37ms/step - accuracy: 0.3204 - loss: 1.8373 - val_accuracy: 0.7584 - val_loss: 1.3602\n",
      "Epoch 2/15\n",
      "\u001b[1m547/547\u001b[0m \u001b[32m━━━━━━━━━━━━━━━━━━━━\u001b[0m\u001b[37m\u001b[0m \u001b[1m21s\u001b[0m 38ms/step - accuracy: 0.3257 - loss: 1.8255 - val_accuracy: 0.7584 - val_loss: 1.3743\n",
      "Epoch 3/15\n",
      "\u001b[1m547/547\u001b[0m \u001b[32m━━━━━━━━━━━━━━━━━━━━\u001b[0m\u001b[37m\u001b[0m \u001b[1m21s\u001b[0m 39ms/step - accuracy: 0.3322 - loss: 1.8132 - val_accuracy: 0.7584 - val_loss: 1.4140\n",
      "Epoch 4/15\n",
      "\u001b[1m547/547\u001b[0m \u001b[32m━━━━━━━━━━━━━━━━━━━━\u001b[0m\u001b[37m\u001b[0m \u001b[1m25s\u001b[0m 46ms/step - accuracy: 0.3298 - loss: 1.8156 - val_accuracy: 0.7584 - val_loss: 1.4616\n",
      "Epoch 5/15\n",
      "\u001b[1m547/547\u001b[0m \u001b[32m━━━━━━━━━━━━━━━━━━━━\u001b[0m\u001b[37m\u001b[0m \u001b[1m28s\u001b[0m 51ms/step - accuracy: 0.3183 - loss: 1.8237 - val_accuracy: 0.7584 - val_loss: 1.3814\n",
      "Epoch 6/15\n",
      "\u001b[1m547/547\u001b[0m \u001b[32m━━━━━━━━━━━━━━━━━━━━\u001b[0m\u001b[37m\u001b[0m \u001b[1m24s\u001b[0m 44ms/step - accuracy: 0.3167 - loss: 1.8229 - val_accuracy: 0.7584 - val_loss: 1.3893\n",
      "Epoch 7/15\n",
      "\u001b[1m547/547\u001b[0m \u001b[32m━━━━━━━━━━━━━━━━━━━━\u001b[0m\u001b[37m\u001b[0m \u001b[1m23s\u001b[0m 42ms/step - accuracy: 0.3442 - loss: 1.7652 - val_accuracy: 0.6764 - val_loss: 0.9342\n",
      "Epoch 8/15\n",
      "\u001b[1m547/547\u001b[0m \u001b[32m━━━━━━━━━━━━━━━━━━━━\u001b[0m\u001b[37m\u001b[0m \u001b[1m24s\u001b[0m 43ms/step - accuracy: 0.5741 - loss: 1.0753 - val_accuracy: 0.8662 - val_loss: 0.3990\n",
      "Epoch 9/15\n",
      "\u001b[1m547/547\u001b[0m \u001b[32m━━━━━━━━━━━━━━━━━━━━\u001b[0m\u001b[37m\u001b[0m \u001b[1m23s\u001b[0m 41ms/step - accuracy: 0.7564 - loss: 0.6065 - val_accuracy: 0.9061 - val_loss: 0.2803\n",
      "Epoch 10/15\n",
      "\u001b[1m547/547\u001b[0m \u001b[32m━━━━━━━━━━━━━━━━━━━━\u001b[0m\u001b[37m\u001b[0m \u001b[1m23s\u001b[0m 42ms/step - accuracy: 0.7933 - loss: 0.4748 - val_accuracy: 0.9169 - val_loss: 0.2573\n",
      "Epoch 11/15\n",
      "\u001b[1m547/547\u001b[0m \u001b[32m━━━━━━━━━━━━━━━━━━━━\u001b[0m\u001b[37m\u001b[0m \u001b[1m24s\u001b[0m 43ms/step - accuracy: 0.8072 - loss: 0.4239 - val_accuracy: 0.9148 - val_loss: 0.2591\n",
      "Epoch 12/15\n",
      "\u001b[1m547/547\u001b[0m \u001b[32m━━━━━━━━━━━━━━━━━━━━\u001b[0m\u001b[37m\u001b[0m \u001b[1m24s\u001b[0m 44ms/step - accuracy: 0.9029 - loss: 0.2169 - val_accuracy: 0.9709 - val_loss: 0.2074\n",
      "Epoch 13/15\n",
      "\u001b[1m547/547\u001b[0m \u001b[32m━━━━━━━━━━━━━━━━━━━━\u001b[0m\u001b[37m\u001b[0m \u001b[1m24s\u001b[0m 43ms/step - accuracy: 0.9833 - loss: 0.0943 - val_accuracy: 0.9741 - val_loss: 0.1467\n",
      "Epoch 14/15\n",
      "\u001b[1m547/547\u001b[0m \u001b[32m━━━━━━━━━━━━━━━━━━━━\u001b[0m\u001b[37m\u001b[0m \u001b[1m23s\u001b[0m 43ms/step - accuracy: 0.9881 - loss: 0.0659 - val_accuracy: 0.9741 - val_loss: 0.1711\n",
      "Epoch 15/15\n",
      "\u001b[1m547/547\u001b[0m \u001b[32m━━━━━━━━━━━━━━━━━━━━\u001b[0m\u001b[37m\u001b[0m \u001b[1m24s\u001b[0m 43ms/step - accuracy: 0.9883 - loss: 0.0580 - val_accuracy: 0.9784 - val_loss: 0.1426\n"
     ]
    }
   ],
   "source": [
    "# Train the model with validation\n",
    "batch_size = 16\n",
    "epochs = 15\n",
    "\n",
    "history = model.fit(\n",
    "    X_oversampled, y_train_enc,\n",
    "    batch_size=batch_size,\n",
    "    epochs=epochs,\n",
    "    validation_data=(X_val, y_val_enc),\n",
    "    verbose=1,\n",
    ")"
   ]
  },
  {
   "cell_type": "code",
   "execution_count": 178,
   "id": "8cffc66e-ae95-43ef-a608-3116aab9efb1",
   "metadata": {},
   "outputs": [
    {
     "data": {
      "image/png": "[encoded data removed]",
      "text/plain": [
       "<Figure size 864x288 with 2 Axes>"
      ]
     },
     "metadata": {
      "needs_background": "light"
     },
     "output_type": "display_data"
    }
   ],
   "source": [
    "import matplotlib.pyplot as plt\n",
    "\n",
    "# Plot training & validation accuracy values\n",
    "plt.figure(figsize=(12, 4))\n",
    "\n",
    "plt.subplot(1, 2, 1)\n",
    "plt.plot(history.history['accuracy'])\n",
    "plt.plot(history.history['val_accuracy'])\n",
    "plt.title('Model accuracy')\n",
    "plt.ylabel('Accuracy')\n",
    "plt.xlabel('Epoch')\n",
    "plt.legend(['Train', 'Validation'], loc='upper left')\n",
    "\n",
    "# Plot training & validation loss values\n",
    "plt.subplot(1, 2, 2)\n",
    "plt.plot(history.history['loss'])\n",
    "plt.plot(history.history['val_loss'])\n",
    "plt.title('Model loss')\n",
    "plt.ylabel('Loss')\n",
    "plt.xlabel('Epoch')\n",
    "plt.legend(['Train', 'Validation'], loc='upper left')\n",
    "\n",
    "plt.show()\n"
   ]
  },
  {
   "cell_type": "code",
   "execution_count": 179,
   "id": "1f3ec63d-337a-4ff9-b079-d89c201da534",
   "metadata": {},
   "outputs": [],
   "source": [
    "model.save(\"intent_classification1.keras\")"
   ]
  },
  {
   "cell_type": "code",
   "execution_count": 180,
   "id": "abf8bb72-ea3e-4a26-bfda-e1cd4380ded9",
   "metadata": {},
   "outputs": [],
   "source": [
    "loaded_model = models.load_model('intent_classification1.keras')"
   ]
  },
  {
   "cell_type": "code",
   "execution_count": 181,
   "id": "8c50f805-c1f3-4925-9e1b-3d475015fcbf",
   "metadata": {},
   "outputs": [],
   "source": [
    "# Test the model on a separate test set\n",
    "test_data = pd.read_csv('data/atis/test.tsv', sep='\\t', header=None, names=['text', 'label'])"
   ]
  },
  {
   "cell_type": "code",
   "execution_count": 182,
   "id": "5103bad8-6c81-4a9e-b110-32accd7b4b21",
   "metadata": {},
   "outputs": [],
   "source": [
    "X_test = test_data[\"text\"]"
   ]
  },
  {
   "cell_type": "code",
   "execution_count": 183,
   "id": "12ec9494-0b00-450f-9e7a-86f50451f445",
   "metadata": {},
   "outputs": [],
   "source": [
    "test_data['label'] = test_data['label'].map(class_mapping).fillna(test_data['label'])"
   ]
  },
  {
   "cell_type": "code",
   "execution_count": 184,
   "id": "8b71ab6b-b46d-4a51-91bb-0790a5a8b3d9",
   "metadata": {},
   "outputs": [],
   "source": [
    "#test_data['text'] = test_data['text'].apply(preprocess_text)"
   ]
  },
  {
   "cell_type": "code",
   "execution_count": 185,
   "id": "fb4ab0fe-c37f-4425-a745-346d7cce6ea1",
   "metadata": {},
   "outputs": [],
   "source": [
    "#X_test_seq = tokenizer.texts_to_sequences(test_data['text'])\n",
    "#X_test_pad = pad_sequences(X_test_seq, maxlen=max_len, padding='post')\n",
    "y_test_enc = encoder.transform(test_data['label'].to_numpy().reshape(-1, 1))"
   ]
  },
  {
   "cell_type": "code",
   "execution_count": 186,
   "id": "802e5f25-6228-4d19-9c1e-1ad8a953b7a6",
   "metadata": {},
   "outputs": [
    {
     "name": "stdout",
     "output_type": "stream",
     "text": [
      "\u001b[1m27/27\u001b[0m \u001b[32m━━━━━━━━━━━━━━━━━━━━\u001b[0m\u001b[37m\u001b[0m \u001b[1m1s\u001b[0m 19ms/step - accuracy: 0.9594 - loss: 0.2043\n",
      "Test Accuracy: 0.9588\n"
     ]
    }
   ],
   "source": [
    "test_loss, test_acc = model.evaluate(X_test, y_test_enc, verbose=1)\n",
    "\n",
    "print(f'Test Accuracy: {test_acc:.4f}')"
   ]
  },
  {
   "cell_type": "code",
   "execution_count": 187,
   "id": "2945b056-13a3-42d5-a48d-2b7821a7a114",
   "metadata": {},
   "outputs": [
    {
     "name": "stdout",
     "output_type": "stream",
     "text": [
      "\u001b[1m27/27\u001b[0m \u001b[32m━━━━━━━━━━━━━━━━━━━━\u001b[0m\u001b[37m\u001b[0m \u001b[1m1s\u001b[0m 26ms/step\n"
     ]
    }
   ],
   "source": [
    "from sklearn.metrics import classification_report\n",
    "\n",
    "# After predicting on test data\n",
    "y_pred = model.predict(X_test)"
   ]
  },
  {
   "cell_type": "code",
   "execution_count": 188,
   "id": "85e52b73-e3b4-46d2-b494-4c14399ec4b8",
   "metadata": {},
   "outputs": [
    {
     "data": {
      "text/plain": [
       "(850,)"
      ]
     },
     "execution_count": 188,
     "metadata": {},
     "output_type": "execute_result"
    }
   ],
   "source": [
    "X_test.shape"
   ]
  },
  {
   "cell_type": "code",
   "execution_count": 189,
   "id": "1584b446-49de-420f-a607-a38feadf2b22",
   "metadata": {},
   "outputs": [],
   "source": [
    "y_pred_labels = np.argmax(y_pred, axis=1)"
   ]
  },
  {
   "cell_type": "code",
   "execution_count": 190,
   "id": "7076dc31-c526-453b-9708-7c0246f0703e",
   "metadata": {},
   "outputs": [
    {
     "data": {
      "text/plain": [
       "array([3, 3, 3, 3, 3, 3, 3, 3, 0, 3, 3, 3, 1, 3, 3, 3, 3, 3, 3, 3, 3, 3,\n",
       "       3, 3, 3, 3, 3, 3, 3, 3, 3, 3, 4, 3, 3, 3, 3, 3, 3, 3, 3, 3, 3, 3,\n",
       "       3, 3, 3, 3, 3, 6, 6, 3, 3, 3, 3, 3, 3, 3, 3, 3, 3, 3, 3, 3, 3, 3,\n",
       "       3, 3, 3, 3, 3, 3, 3, 3, 3, 3, 3, 3, 3, 3, 3, 3, 3, 3, 3, 3, 3, 3,\n",
       "       3, 3, 3, 3, 5, 5, 3, 3, 3, 3, 3, 3, 3, 3, 1, 2, 3, 3, 3, 3, 2, 3,\n",
       "       3, 3, 3, 3, 3, 3, 3, 3, 4, 3, 3, 3, 3, 3, 3, 3, 3, 3, 2, 3, 3, 3,\n",
       "       3, 3, 3, 4, 4, 4, 3, 4, 3, 3, 3, 3, 3, 3, 3, 3, 3, 3, 3, 3, 3, 2,\n",
       "       3, 3, 3, 3, 3, 3, 3, 3, 6, 6, 6, 3, 3, 3, 3, 3, 3, 1, 1, 3, 6, 6,\n",
       "       3, 3, 3, 3, 3, 3, 3, 3, 3, 3, 3, 3, 3, 6, 6, 6, 6, 4, 4, 4, 4, 2,\n",
       "       3, 3, 1, 6, 3, 1, 3, 1, 1, 1, 3, 3, 3, 3, 3, 2, 2, 6, 3, 3, 3, 3,\n",
       "       3, 3, 3, 3, 3, 3, 3, 3, 1, 6, 6, 6, 6, 6, 4, 3, 3, 3, 3, 3, 2, 6,\n",
       "       6, 3, 3, 3, 3, 3, 3, 3, 1, 6, 3, 3, 3, 3, 3, 3, 3, 3, 2, 1, 1, 3,\n",
       "       3, 3, 3, 3, 3, 3, 3, 3, 3, 3, 3, 3, 3, 3, 6, 3, 3, 3, 3, 3, 3, 3,\n",
       "       3, 3, 3, 6, 2, 3, 3, 3, 3, 3, 3, 3, 3, 3, 3, 3, 2, 1, 3, 3, 3, 1,\n",
       "       1, 1, 1, 4, 3, 4, 2, 1, 3, 3, 3, 3, 3, 3, 3, 3, 6, 3, 3, 6, 4, 3,\n",
       "       3, 1, 6, 1, 3, 3, 3, 3, 3, 6, 6, 3, 3, 6, 3, 3, 3, 3, 4, 3, 4, 3,\n",
       "       3, 3, 2, 3, 6, 6, 3, 6, 3, 2, 3, 3, 4, 6, 6, 3, 4, 6, 3, 2, 3, 3,\n",
       "       4, 3, 4, 3, 4, 0, 3, 3, 3, 3, 3, 3, 3, 3, 3, 3, 3, 3, 3, 3, 3, 3,\n",
       "       3, 3, 3, 3, 3, 3, 3, 3, 3, 1, 1, 1, 3, 3, 3, 3, 3, 3, 3, 3, 3, 3,\n",
       "       3, 3, 4, 3, 3, 3, 3, 3, 3, 3, 3, 3, 3, 3, 3, 1, 3, 1, 1, 3, 3, 3,\n",
       "       3, 3, 3, 4, 3, 4, 3, 3, 3, 3, 3, 3, 3, 3, 3, 3, 1, 3, 3, 2, 1, 2,\n",
       "       1, 3, 1, 3, 3, 3, 3, 3, 3, 3, 3, 3, 3, 3, 3, 3, 3, 4, 3, 3, 3, 3,\n",
       "       3, 4, 3, 4, 3, 4, 3, 3, 3, 3, 3, 5, 5, 5, 5, 3, 5, 3, 3, 2, 3, 6,\n",
       "       3, 3, 0, 3, 3, 1, 1, 3, 4, 3, 3, 3, 3, 3, 3, 3, 6, 3, 6, 1, 3, 6,\n",
       "       6, 6, 6, 3, 3, 3, 3, 3, 2, 3, 6, 3, 3, 3, 3, 3, 3, 3, 3, 3, 3, 3,\n",
       "       3, 2, 4, 4, 3, 3, 2, 3, 3, 3, 1, 2, 3, 4, 3, 4, 3, 3, 3, 3, 3, 3,\n",
       "       6, 2, 2, 3, 3, 1, 3, 3, 3, 3, 3, 3, 3, 3, 3, 3, 3, 3, 3, 6, 5, 5,\n",
       "       5, 5, 3, 3, 3, 3, 3, 3, 3, 3, 3, 0, 1, 6, 3, 3, 1, 3, 3, 3, 3, 3,\n",
       "       2, 3, 6, 3, 4, 4, 3, 3, 3, 3, 1, 1, 1, 3, 3, 3, 3, 3, 3, 3, 3, 3,\n",
       "       3, 3, 3, 3, 3, 3, 3, 3, 3, 3, 3, 3, 1, 1, 3, 3, 3, 3, 3, 3, 3, 1,\n",
       "       1, 3, 3, 3, 3, 3, 3, 3, 1, 1, 3, 3, 3, 3, 3, 3, 3, 3, 3, 3, 3, 3,\n",
       "       3, 3, 3, 6, 6, 6, 3, 5, 3, 3, 3, 3, 3, 6, 0, 5, 1, 1, 1, 6, 6, 3,\n",
       "       3, 3, 3, 1, 1, 1, 1, 1, 3, 3, 3, 3, 3, 3, 6, 6, 6, 6, 6, 6, 2, 2,\n",
       "       2, 3, 6, 6, 6, 6, 6, 6, 3, 3, 3, 6, 0, 0, 6, 6, 6, 3, 3, 3, 3, 4,\n",
       "       3, 6, 4, 4, 4, 4, 3, 3, 4, 3, 6, 3, 3, 2, 2, 3, 2, 3, 3, 1, 3, 3,\n",
       "       3, 3, 3, 3, 3, 3, 3, 0, 3, 3, 3, 3, 3, 4, 4, 3, 3, 3, 3, 3, 3, 3,\n",
       "       3, 3, 3, 3, 3, 3, 3, 3, 3, 3, 3, 3, 3, 3, 3, 3, 3, 3, 3, 3, 3, 3,\n",
       "       3, 3, 3, 3, 3, 3, 3, 3, 3, 3, 3, 3, 3, 3, 3, 3, 3, 3, 3, 3, 3, 3,\n",
       "       3, 3, 2, 3, 3, 3, 5, 3, 5, 3, 3, 3, 3, 3])"
      ]
     },
     "execution_count": 190,
     "metadata": {},
     "output_type": "execute_result"
    }
   ],
   "source": [
    "y_pred_labels"
   ]
  },
  {
   "cell_type": "code",
   "execution_count": 191,
   "id": "e34fa081-8ed2-4f79-8a34-d512b0d1979d",
   "metadata": {},
   "outputs": [],
   "source": [
    "y_true_labels = np.argmax(y_test_enc, axis=1)\n"
   ]
  },
  {
   "cell_type": "code",
   "execution_count": 192,
   "id": "0f775bf9-ac31-409b-bb57-74119d8a4916",
   "metadata": {},
   "outputs": [
    {
     "data": {
      "text/plain": [
       "array([3, 1, 3, 3, 3, 3, 3, 3, 3, 3, 3, 3, 1, 3, 3, 3, 3, 3, 3, 3, 3, 3,\n",
       "       3, 3, 3, 3, 3, 3, 3, 3, 3, 3, 4, 3, 0, 3, 0, 3, 3, 3, 3, 3, 3, 3,\n",
       "       3, 3, 3, 3, 3, 6, 6, 3, 3, 3, 3, 3, 3, 3, 3, 3, 3, 3, 3, 3, 3, 3,\n",
       "       3, 3, 3, 3, 3, 3, 3, 3, 3, 3, 3, 3, 3, 3, 3, 3, 3, 3, 3, 3, 3, 3,\n",
       "       3, 3, 3, 3, 5, 3, 3, 3, 3, 3, 3, 3, 3, 3, 1, 2, 3, 3, 3, 5, 2, 3,\n",
       "       3, 3, 3, 3, 3, 3, 3, 3, 4, 3, 3, 3, 3, 3, 3, 3, 3, 3, 2, 3, 3, 3,\n",
       "       3, 3, 3, 4, 4, 4, 3, 4, 3, 3, 3, 3, 3, 3, 3, 3, 3, 3, 3, 3, 3, 2,\n",
       "       3, 3, 3, 3, 3, 3, 3, 3, 6, 6, 6, 3, 3, 5, 3, 3, 3, 1, 1, 3, 6, 6,\n",
       "       3, 3, 3, 3, 3, 3, 3, 3, 3, 3, 3, 3, 3, 6, 6, 6, 6, 4, 4, 4, 4, 2,\n",
       "       3, 3, 1, 0, 3, 1, 3, 1, 1, 1, 3, 3, 3, 3, 1, 2, 2, 6, 3, 3, 3, 3,\n",
       "       3, 3, 3, 3, 3, 3, 3, 3, 0, 6, 6, 6, 6, 6, 4, 3, 3, 3, 3, 3, 2, 6,\n",
       "       6, 3, 3, 3, 3, 3, 3, 3, 1, 6, 3, 3, 3, 3, 3, 3, 3, 3, 2, 1, 1, 3,\n",
       "       3, 3, 3, 3, 3, 3, 3, 3, 3, 3, 3, 3, 3, 3, 6, 3, 3, 3, 3, 3, 3, 3,\n",
       "       3, 3, 3, 6, 2, 3, 3, 3, 3, 3, 3, 3, 3, 3, 3, 3, 2, 3, 3, 3, 3, 1,\n",
       "       1, 1, 1, 4, 3, 4, 2, 1, 3, 3, 3, 3, 3, 3, 3, 3, 6, 3, 3, 6, 4, 3,\n",
       "       3, 1, 6, 1, 3, 3, 3, 3, 3, 6, 6, 3, 3, 6, 3, 3, 3, 3, 4, 3, 4, 3,\n",
       "       3, 3, 2, 3, 6, 6, 3, 6, 3, 2, 3, 3, 4, 6, 6, 3, 4, 6, 3, 2, 3, 3,\n",
       "       4, 3, 4, 3, 4, 0, 3, 3, 3, 3, 3, 3, 3, 3, 3, 3, 3, 3, 3, 3, 3, 3,\n",
       "       3, 3, 3, 3, 3, 3, 1, 1, 1, 1, 1, 1, 3, 3, 3, 3, 3, 3, 3, 3, 3, 3,\n",
       "       3, 3, 4, 3, 3, 3, 3, 3, 3, 3, 3, 3, 3, 3, 3, 1, 3, 1, 1, 3, 3, 3,\n",
       "       3, 3, 3, 4, 3, 4, 3, 3, 3, 3, 3, 3, 3, 3, 3, 3, 1, 3, 3, 1, 1, 1,\n",
       "       1, 1, 1, 3, 3, 3, 3, 3, 3, 3, 3, 3, 3, 3, 3, 3, 3, 4, 3, 3, 3, 3,\n",
       "       3, 4, 0, 4, 3, 4, 3, 1, 1, 0, 3, 5, 5, 5, 5, 3, 5, 3, 3, 2, 3, 6,\n",
       "       3, 3, 0, 3, 3, 1, 1, 3, 4, 3, 3, 3, 3, 3, 3, 3, 6, 3, 6, 1, 3, 6,\n",
       "       6, 6, 6, 3, 3, 3, 3, 3, 2, 3, 6, 3, 3, 3, 3, 3, 3, 3, 3, 3, 3, 3,\n",
       "       3, 2, 4, 4, 3, 3, 2, 3, 3, 3, 3, 2, 3, 4, 3, 4, 3, 3, 3, 3, 3, 3,\n",
       "       6, 2, 2, 3, 3, 1, 3, 3, 3, 3, 3, 3, 3, 3, 3, 3, 3, 3, 3, 6, 5, 5,\n",
       "       5, 5, 3, 3, 3, 3, 3, 3, 3, 3, 3, 0, 1, 6, 3, 1, 1, 3, 3, 3, 3, 3,\n",
       "       2, 3, 6, 3, 4, 4, 3, 3, 3, 3, 1, 3, 1, 3, 3, 3, 3, 3, 3, 3, 3, 3,\n",
       "       3, 3, 3, 3, 3, 3, 3, 3, 3, 3, 3, 3, 1, 1, 3, 3, 3, 3, 3, 3, 3, 1,\n",
       "       1, 3, 3, 3, 3, 3, 3, 3, 1, 1, 3, 3, 3, 3, 3, 3, 3, 3, 3, 3, 3, 3,\n",
       "       3, 3, 3, 3, 3, 3, 5, 5, 5, 3, 3, 3, 3, 6, 0, 5, 3, 3, 3, 6, 6, 3,\n",
       "       3, 3, 3, 1, 1, 1, 1, 1, 3, 3, 3, 3, 3, 3, 6, 6, 6, 6, 6, 6, 2, 2,\n",
       "       2, 3, 6, 6, 6, 6, 6, 6, 3, 3, 3, 6, 0, 0, 6, 6, 6, 3, 3, 3, 3, 4,\n",
       "       3, 6, 4, 4, 4, 4, 3, 3, 4, 3, 3, 3, 3, 2, 3, 3, 3, 3, 3, 1, 3, 3,\n",
       "       3, 3, 3, 3, 3, 3, 3, 0, 3, 3, 3, 3, 3, 4, 4, 3, 3, 3, 3, 3, 3, 3,\n",
       "       3, 3, 3, 3, 3, 3, 3, 3, 3, 3, 3, 3, 3, 3, 3, 3, 3, 3, 3, 3, 3, 3,\n",
       "       3, 3, 3, 3, 3, 3, 3, 3, 3, 3, 3, 3, 3, 3, 3, 3, 3, 3, 3, 3, 3, 3,\n",
       "       3, 3, 2, 3, 3, 3, 5, 3, 5, 3, 3, 3, 3, 3])"
      ]
     },
     "execution_count": 192,
     "metadata": {},
     "output_type": "execute_result"
    }
   ],
   "source": [
    "y_true_labels"
   ]
  },
  {
   "cell_type": "code",
   "execution_count": 193,
   "id": "a203db75-2704-4ee0-b142-2bd0f18bba49",
   "metadata": {},
   "outputs": [
    {
     "name": "stdout",
     "output_type": "stream",
     "text": [
      "                     precision    recall  f1-score   support\n",
      "\n",
      "           aircraft       0.88      0.54      0.67        13\n",
      "       airfare_info       0.88      0.82      0.84        60\n",
      "       airline_info       0.88      1.00      0.93        28\n",
      "        flight_info       0.97      0.98      0.98       622\n",
      "ground_service_info       1.00      1.00      1.00        43\n",
      "      location_info       0.93      0.78      0.85        18\n",
      "          misc_info       0.93      1.00      0.96        66\n",
      "\n",
      "           accuracy                           0.96       850\n",
      "          macro avg       0.92      0.87      0.89       850\n",
      "       weighted avg       0.96      0.96      0.96       850\n",
      "\n"
     ]
    }
   ],
   "source": [
    "# Generate classification report\n",
    "report = classification_report(y_true_labels, y_pred_labels, target_names=encoder.categories_[0])\n",
    "print(report)"
   ]
  },
  {
   "cell_type": "code",
   "execution_count": 194,
   "id": "0a980559-adf1-4cf0-8b7c-27b25c6f5af9",
   "metadata": {},
   "outputs": [
    {
     "data": {
      "text/plain": [
       "array(['aircraft', 'airfare_info', 'airline_info', 'flight_info',\n",
       "       'ground_service_info', 'location_info', 'misc_info'], dtype=object)"
      ]
     },
     "execution_count": 194,
     "metadata": {},
     "output_type": "execute_result"
    }
   ],
   "source": [
    "encoder.categories_[0]"
   ]
  },
  {
   "cell_type": "code",
   "execution_count": 195,
   "id": "f3dfa824-3f04-4329-b267-479c556980b0",
   "metadata": {},
   "outputs": [],
   "source": [
    "org_labels = np.array(['aircraft', 'airfare_info', 'airline_info', 'flight_info',\n",
    "       'ground_service_info', 'location_info', 'misc_info'], dtype=object)"
   ]
  },
  {
   "cell_type": "code",
   "execution_count": null,
   "id": "1e08f684-aa15-4275-b805-14cb874b1446",
   "metadata": {},
   "outputs": [],
   "source": []
  }
 ],
 "metadata": {
  "kernelspec": {
   "display_name": "Python 3 (ipykernel)",
   "language": "python",
   "name": "python3"
  },
  "language_info": {
   "codemirror_mode": {
    "name": "ipython",
    "version": 3
   },
   "file_extension": ".py",
   "mimetype": "text/x-python",
   "name": "python",
   "nbconvert_exporter": "python",
   "pygments_lexer": "ipython3",
   "version": "3.9.12"
  }
 },
 "nbformat": 4,
 "nbformat_minor": 5
}
